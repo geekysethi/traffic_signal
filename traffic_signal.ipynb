{
 "cells": [
  {
   "cell_type": "code",
   "execution_count": 1,
   "metadata": {},
   "outputs": [],
   "source": [
    "# importing libaries\n",
    "import numpy as np\n",
    "import matplotlib.pyplot as plt\n",
    "import csv\n",
    "import cv2\n",
    "import os\n",
    "from tqdm import tqdm\n",
    "import pandas as pd\n",
    "%matplotlib inline\n",
    "plt.style.use('ggplot')"
   ]
  },
  {
   "cell_type": "code",
   "execution_count": 2,
   "metadata": {},
   "outputs": [],
   "source": [
    "# Training dir\n",
    "train_dir=\"/home/geekysethi/Desktop/age-and-gender/traffic_signal/data/train/Final_Training/Images\"\n",
    "# train_dir=\"/data/train/Final_Training/Images\"\n",
    "\n",
    "img_size=32\n",
    "LR=1e-3\n",
    "model_name='trafficsignal-{}-{}.model'.format(LR,'2conv_basic')\n"
   ]
  },
  {
   "cell_type": "code",
   "execution_count": 3,
   "metadata": {},
   "outputs": [],
   "source": [
    "# reading all csv files in training folder\n",
    "def readTrafficSigns(rootpath):\n",
    "    final_df=pd.DataFrame()\n",
    "\n",
    "    for c in range(0,43):\n",
    "        prefix = rootpath + '/' + format(c, '05d') + '/' # subdirectory for class\n",
    "        gtFile = prefix + 'GT-'+ format(c, '05d') + '.csv' # annotations file\n",
    "        \n",
    "        gtReader = pd.read_csv(gtFile, delimiter=';',index_col=None,header=0) # csv parser for annotations file\n",
    "        gtReader.Filename=prefix+gtReader.Filename\n",
    "#         print(gtReader)\n",
    "        final_df=final_df.append(gtReader,ignore_index=True)\n",
    "\n",
    "\n",
    "\n",
    "\n",
    "    print(len(final_df))\n",
    "    print(final_df.head())\n",
    "    print(final_df.tail())\n",
    "    return final_df"
   ]
  },
  {
   "cell_type": "code",
   "execution_count": 4,
   "metadata": {},
   "outputs": [
    {
     "name": "stdout",
     "output_type": "stream",
     "text": [
      "39209\n",
      "                                            Filename  Width  Height  Roi.X1  \\\n",
      "0  /home/geekysethi/Desktop/age-and-gender/traffi...     29      30       5   \n",
      "1  /home/geekysethi/Desktop/age-and-gender/traffi...     30      30       5   \n",
      "2  /home/geekysethi/Desktop/age-and-gender/traffi...     30      30       5   \n",
      "3  /home/geekysethi/Desktop/age-and-gender/traffi...     31      31       5   \n",
      "4  /home/geekysethi/Desktop/age-and-gender/traffi...     30      32       5   \n",
      "\n",
      "   Roi.Y1  Roi.X2  Roi.Y2  ClassId  \n",
      "0       6      24      25        0  \n",
      "1       5      25      25        0  \n",
      "2       5      25      25        0  \n",
      "3       5      26      26        0  \n",
      "4       6      25      26        0  \n",
      "                                                Filename  Width  Height  \\\n",
      "39204  /home/geekysethi/Desktop/age-and-gender/traffi...     52      56   \n",
      "39205  /home/geekysethi/Desktop/age-and-gender/traffi...     56      58   \n",
      "39206  /home/geekysethi/Desktop/age-and-gender/traffi...     58      62   \n",
      "39207  /home/geekysethi/Desktop/age-and-gender/traffi...     63      69   \n",
      "39208  /home/geekysethi/Desktop/age-and-gender/traffi...     68      69   \n",
      "\n",
      "       Roi.X1  Roi.Y1  Roi.X2  Roi.Y2  ClassId  \n",
      "39204       5       6      47      51       42  \n",
      "39205       5       5      51      53       42  \n",
      "39206       5       6      53      57       42  \n",
      "39207       5       7      58      63       42  \n",
      "39208       7       6      62      63       42  \n"
     ]
    }
   ],
   "source": [
    "final_df=readTrafficSigns(train_dir)"
   ]
  },
  {
   "cell_type": "code",
   "execution_count": 5,
   "metadata": {},
   "outputs": [
    {
     "data": {
      "text/plain": [
       "<matplotlib.axes._subplots.AxesSubplot at 0x7f945fa8bb00>"
      ]
     },
     "execution_count": 5,
     "metadata": {},
     "output_type": "execute_result"
    },
    {
     "data": {
      "image/png": "[encoded data removed]",
      "text/plain": [
       "<matplotlib.figure.Figure at 0x7f945f4a05c0>"
      ]
     },
     "metadata": {},
     "output_type": "display_data"
    }
   ],
   "source": [
    "final_df.ClassId.hist()\n"
   ]
  },
  {
   "cell_type": "code",
   "execution_count": 6,
   "metadata": {},
   "outputs": [],
   "source": [
    "n_files=len(final_df)\n",
    "allX = np.zeros((n_files, img_size, img_size, 3), dtype='float64')\n",
    "ally = final_df.ClassId.values\n",
    "img_paths=final_df.Filename.values\n",
    "\n",
    "count=0\n"
   ]
  },
  {
   "cell_type": "code",
   "execution_count": 8,
   "metadata": {},
   "outputs": [
    {
     "name": "stderr",
     "output_type": "stream",
     "text": [
      "100%|██████████| 39209/39209 [00:14<00:00, 2677.51it/s]\n"
     ]
    }
   ],
   "source": [
    "# Reading all images from training folder to allX\n",
    "for i in tqdm(img_paths):\n",
    "    img=cv2.imread(i,1)\n",
    "    img=cv2.resize(img,(img_size,img_size))\n",
    "    allX[count]=np.array(img)\n",
    "    count+=1\n",
    "\n"
   ]
  },
  {
   "cell_type": "code",
   "execution_count": 9,
   "metadata": {},
   "outputs": [
    {
     "name": "stdout",
     "output_type": "stream",
     "text": [
      "(39209, 32, 32, 3)\n",
      "[ 0  0  0 ..., 42 42 42]\n"
     ]
    }
   ],
   "source": [
    "print(np.shape(allX))\n",
    "print(ally)"
   ]
  },
  {
   "cell_type": "code",
   "execution_count": 7,
   "metadata": {},
   "outputs": [
    {
     "data": {
      "image/png": "[encoded data removed]",
      "text/plain": [
       "<matplotlib.figure.Figure at 0x7f945f391b00>"
      ]
     },
     "metadata": {},
     "output_type": "display_data"
    }
   ],
   "source": [
    "# visualizing give data\n",
    "inputs_per_class = np.bincount(ally)\n",
    "max_inputs = np.max(inputs_per_class)\n",
    "mpl_fig = plt.figure()\n",
    "ax = mpl_fig.add_subplot(111)\n",
    "ax.set_ylabel('Inputs')\n",
    "ax.set_xlabel('Class')\n",
    "ax.set_title('Number of inputs per class')\n",
    "ax.bar(range(len(inputs_per_class)), inputs_per_class, 1/3, color='blue', label='Inputs per class')\n",
    "plt.show()\n"
   ]
  },
  {
   "cell_type": "code",
   "execution_count": 8,
   "metadata": {},
   "outputs": [
    {
     "name": "stdout",
     "output_type": "stream",
     "text": [
      "39209\n"
     ]
    },
    {
     "data": {
      "text/plain": [
       "43"
      ]
     },
     "execution_count": 8,
     "metadata": {},
     "output_type": "execute_result"
    }
   ],
   "source": [
    "# len(inputs_per_class)\n",
    "print(sum(inputs_per_class))\n",
    "n_classes = max(ally) + 1\n",
    "n_classes\n"
   ]
  },
  {
   "cell_type": "markdown",
   "metadata": {},
   "source": [
    "We can see that data is not balanced so we created more images y changing just angle(this approch can be improve)"
   ]
  },
  {
   "cell_type": "code",
   "execution_count": 12,
   "metadata": {
    "scrolled": false
   },
   "outputs": [
    {
     "name": "stdout",
     "output_type": "stream",
     "text": [
      "9 0\n",
      "1470\n",
      "4 6\n",
      "2310\n",
      "4 16\n",
      "3150\n",
      "9 19\n",
      "4620\n",
      "5 20\n",
      "5700\n",
      "5 21\n",
      "6690\n",
      "4 22\n",
      "7470\n",
      "3 23\n",
      "7980\n",
      "7 24\n",
      "9330\n",
      "8 27\n",
      "10770\n",
      "3 28\n",
      "11310\n",
      "7 29\n",
      "12660\n",
      "4 30\n",
      "13560\n",
      "8 32\n",
      "15000\n",
      "4 34\n",
      "15840\n",
      "4 36\n",
      "16620\n",
      "9 37\n",
      "18090\n",
      "6 39\n",
      "19290\n",
      "5 40\n",
      "20370\n",
      "8 41\n",
      "21810\n",
      "8 42\n",
      "23250\n"
     ]
    }
   ],
   "source": [
    "import random\n",
    "import scipy.ndimage\n",
    "import glob\n",
    "angles = [-5, 5, -10, 10, -15, 15, -20, 20]\n",
    "\n",
    "\n",
    "counter=0\n",
    "\n",
    "for i in range(len(inputs_per_class)):\n",
    "    input_ratio = int(max_inputs / inputs_per_class[i])-1\n",
    "    \n",
    "    if input_ratio>2:\n",
    "        new_features=[]\n",
    "        new_lables=[]\n",
    "        print(input_ratio,i)\n",
    "        prefix = train_dir + '/' + format(i, '05d') + '/*.ppm'\n",
    "        path=np.sort(glob.glob(prefix))\n",
    "#         print(\"total images:\",len(path))\n",
    "\n",
    "        for j in path:\n",
    "            img = cv2.imread(j,1)# this is a PIL image\n",
    "#         print(np.shape(img))\n",
    "            img=cv2.resize(img,(img_size,img_size))\n",
    "#             print(np.shape(img))\n",
    "        \n",
    "            for k in range(input_ratio-2):\n",
    "                counter+=1\n",
    "                new_features.append(scipy.ndimage.rotate(img, random.choice(angles), reshape=False))\n",
    "                new_lables.append(i)\n",
    "#                 print(np.shape(new_features))\n",
    "#                 print(new_features)\n",
    "        allX=np.append(allX,new_features,axis=0)\n",
    "        ally=np.append(ally,new_lables,axis=0)\n",
    "        print(counter)\n",
    "        \n"
   ]
  },
  {
   "cell_type": "code",
   "execution_count": 10,
   "metadata": {},
   "outputs": [
    {
     "name": "stdout",
     "output_type": "stream",
     "text": [
      "39209\n",
      "39209\n"
     ]
    }
   ],
   "source": [
    "print(len(allX))\n",
    "print(len(ally))\n"
   ]
  },
  {
   "cell_type": "code",
   "execution_count": 11,
   "metadata": {},
   "outputs": [],
   "source": [
    "# print(np.shape(X))\n",
    "# print(np.shape(Y))\n"
   ]
  },
  {
   "cell_type": "code",
   "execution_count": 13,
   "metadata": {},
   "outputs": [
    {
     "name": "stderr",
     "output_type": "stream",
     "text": [
      "/usr/local/lib/python3.5/site-packages/sklearn/cross_validation.py:44: DeprecationWarning: This module was deprecated in version 0.18 in favor of the model_selection module into which all the refactored classes and functions are moved. Also note that the interface of the new CV iterators are different from that of this module. This module will be removed in 0.20.\n",
      "  \"This module will be removed in 0.20.\", DeprecationWarning)\n"
     ]
    }
   ],
   "source": [
    "# Dividind data into train and test\n",
    "from sklearn.cross_validation import train_test_split\n",
    "from tflearn.data_utils import shuffle, to_categorical\n",
    "\n",
    "\n",
    "X, X_test, Y, Y_test = train_test_split(allX, ally, test_size=0.2, random_state=42)\n",
    "# for one hot\n",
    "X, Y = shuffle(X, Y) \n",
    "Y = to_categorical(Y, n_classes)\n",
    "Y_test = to_categorical(Y_test, n_classes)\n"
   ]
  },
  {
   "cell_type": "code",
   "execution_count": 14,
   "metadata": {},
   "outputs": [
    {
     "name": "stdout",
     "output_type": "stream",
     "text": [
      "(49967, 32, 32, 3)\n",
      "(49967, 43)\n"
     ]
    }
   ],
   "source": [
    "print(np.shape(X))\n",
    "print(np.shape(Y))\n"
   ]
  },
  {
   "cell_type": "code",
   "execution_count": 15,
   "metadata": {},
   "outputs": [
    {
     "name": "stdout",
     "output_type": "stream",
     "text": [
      "[[ 0.  0.  0.  0.  0.  0.  0.  0.  0.  0.  0.  0.  0.  1.  0.  0.  0.  0.\n",
      "   0.  0.  0.  0.  0.  0.  0.  0.  0.  0.  0.  0.  0.  0.  0.  0.  0.  0.\n",
      "   0.  0.  0.  0.  0.  0.  0.]\n",
      " [ 0.  0.  0.  0.  0.  0.  0.  0.  0.  0.  0.  0.  1.  0.  0.  0.  0.  0.\n",
      "   0.  0.  0.  0.  0.  0.  0.  0.  0.  0.  0.  0.  0.  0.  0.  0.  0.  0.\n",
      "   0.  0.  0.  0.  0.  0.  0.]\n",
      " [ 0.  0.  0.  0.  0.  0.  0.  0.  0.  0.  0.  0.  0.  0.  0.  0.  0.  0.\n",
      "   0.  0.  0.  0.  0.  0.  0.  0.  1.  0.  0.  0.  0.  0.  0.  0.  0.  0.\n",
      "   0.  0.  0.  0.  0.  0.  0.]\n",
      " [ 0.  0.  0.  0.  0.  0.  0.  0.  0.  0.  0.  0.  0.  0.  0.  0.  0.  0.\n",
      "   0.  0.  0.  0.  0.  0.  0.  0.  0.  0.  0.  1.  0.  0.  0.  0.  0.  0.\n",
      "   0.  0.  0.  0.  0.  0.  0.]\n",
      " [ 0.  0.  0.  0.  0.  0.  0.  0.  0.  0.  0.  0.  0.  0.  0.  0.  0.  0.\n",
      "   1.  0.  0.  0.  0.  0.  0.  0.  0.  0.  0.  0.  0.  0.  0.  0.  0.  0.\n",
      "   0.  0.  0.  0.  0.  0.  0.]\n",
      " [ 0.  0.  1.  0.  0.  0.  0.  0.  0.  0.  0.  0.  0.  0.  0.  0.  0.  0.\n",
      "   0.  0.  0.  0.  0.  0.  0.  0.  0.  0.  0.  0.  0.  0.  0.  0.  0.  0.\n",
      "   0.  0.  0.  0.  0.  0.  0.]\n",
      " [ 0.  0.  0.  0.  0.  0.  0.  0.  0.  0.  0.  0.  0.  0.  0.  0.  0.  0.\n",
      "   0.  1.  0.  0.  0.  0.  0.  0.  0.  0.  0.  0.  0.  0.  0.  0.  0.  0.\n",
      "   0.  0.  0.  0.  0.  0.  0.]\n",
      " [ 0.  0.  0.  0.  0.  0.  0.  1.  0.  0.  0.  0.  0.  0.  0.  0.  0.  0.\n",
      "   0.  0.  0.  0.  0.  0.  0.  0.  0.  0.  0.  0.  0.  0.  0.  0.  0.  0.\n",
      "   0.  0.  0.  0.  0.  0.  0.]\n",
      " [ 0.  0.  0.  0.  0.  0.  0.  0.  0.  0.  0.  0.  0.  0.  0.  0.  0.  0.\n",
      "   0.  0.  0.  0.  0.  0.  0.  0.  0.  0.  0.  1.  0.  0.  0.  0.  0.  0.\n",
      "   0.  0.  0.  0.  0.  0.  0.]\n",
      " [ 0.  0.  0.  0.  0.  0.  0.  0.  0.  0.  0.  0.  0.  0.  0.  0.  0.  0.\n",
      "   0.  0.  0.  0.  0.  0.  0.  0.  0.  0.  0.  0.  0.  0.  0.  0.  0.  0.\n",
      "   0.  0.  1.  0.  0.  0.  0.]\n",
      " [ 0.  0.  0.  0.  0.  0.  0.  0.  0.  0.  0.  0.  0.  0.  0.  0.  0.  0.\n",
      "   0.  0.  0.  0.  0.  0.  0.  0.  0.  0.  0.  0.  0.  1.  0.  0.  0.  0.\n",
      "   0.  0.  0.  0.  0.  0.  0.]\n",
      " [ 0.  0.  0.  0.  0.  0.  0.  0.  0.  0.  0.  0.  0.  0.  0.  0.  0.  0.\n",
      "   0.  0.  0.  0.  1.  0.  0.  0.  0.  0.  0.  0.  0.  0.  0.  0.  0.  0.\n",
      "   0.  0.  0.  0.  0.  0.  0.]]\n"
     ]
    }
   ],
   "source": [
    "print(Y[:12])"
   ]
  },
  {
   "cell_type": "code",
   "execution_count": 13,
   "metadata": {},
   "outputs": [
    {
     "data": {
      "image/png": "[encoded data removed]",
      "text/plain": [
       "<matplotlib.figure.Figure at 0x7f11e8cd08d0>"
      ]
     },
     "metadata": {},
     "output_type": "display_data"
    }
   ],
   "source": [
    "# Now we can see that data is more balanced\n",
    "inputs_per_class = np.bincount(ally)\n",
    "max_inputs = np.max(inputs_per_class)\n",
    "mpl_fig = plt.figure()\n",
    "ax = mpl_fig.add_subplot(111)\n",
    "ax.set_ylabel('Inputs')\n",
    "ax.set_xlabel('Class')\n",
    "ax.set_title('Number of inputs per class')\n",
    "ax.bar(range(len(inputs_per_class)), inputs_per_class, 1/3, color='blue', label='Inputs per class')\n",
    "plt.show()\n"
   ]
  },
  {
   "cell_type": "code",
   "execution_count": 9,
   "metadata": {},
   "outputs": [],
   "source": [
    "# image preprocessing\n",
    "\n",
    "from tflearn.data_preprocessing import ImagePreprocessing\n",
    "from tflearn.data_augmentation import ImageAugmentation\n",
    "img_prep = ImagePreprocessing()\n",
    "img_prep.add_featurewise_zero_center()\n",
    "img_prep.add_featurewise_stdnorm()\n",
    "\n",
    "# Create extra synthetic training data by flipping & rotating images\n",
    "img_aug = ImageAugmentation()\n",
    "img_aug.add_random_flip_leftright()\n",
    "img_aug.add_random_rotation(max_angle=25.)\n"
   ]
  },
  {
   "cell_type": "code",
   "execution_count": 10,
   "metadata": {},
   "outputs": [],
   "source": [
    "###################################\n",
    "# Define network architecture\n",
    "###################################\n",
    "import tflearn\n",
    "from tflearn.layers.conv import conv_2d, max_pool_2d\n",
    "from tflearn.layers.core import input_data, dropout, fully_connected\n",
    "from tflearn.layers.estimator import regression\n",
    "from tflearn.metrics import Accuracy\n",
    "\n",
    "# Input is a 32x32 image with 3 color channels (red, green and blue)\n",
    "network = input_data(shape=[None, img_size, img_size, 3],\n",
    "                     data_preprocessing=img_prep,\n",
    "                     data_augmentation=img_aug,name='')\n",
    "\n",
    "\n",
    "# network = input_data(shape=[None, img_size, img_size, 3],name='input')\n",
    "\n",
    "# 1: Convolution layer with 32 filters, each 3x3x3\n",
    "conv_1 = conv_2d(network, 32, 3, activation='relu', name='conv_1')\n",
    "\n",
    "# 2: Max pooling layer\n",
    "network = max_pool_2d(conv_1, 2)\n",
    "\n",
    "# 3: Convolution layer with 64 filters\n",
    "conv_2 = conv_2d(network, 64, 3, activation='relu', name='conv_2')\n",
    "\n",
    "# 4: Convolution layer with 64 filters\n",
    "conv_3 = conv_2d(conv_2, 64, 3, activation='relu', name='conv_3')\n",
    "\n",
    "# 5: Max pooling layer\n",
    "network = max_pool_2d(conv_3, 2)\n",
    "\n",
    "# 6: Fully-connected 512 node layer\n",
    "network = fully_connected(network, 512, activation='relu')\n",
    "\n",
    "# 7: Dropout layer to combat overfitting\n",
    "network = dropout(network, 0.5)\n",
    "\n",
    "# 8: Fully-connected layer with two outputs\n",
    "network = fully_connected(network, n_classes, activation='softmax')\n",
    "\n",
    "# Configure how the network will be trained\n",
    "acc = Accuracy(name=\"Accuracy\")\n",
    "network = regression(network, optimizer='adam',\n",
    "                     loss='categorical_crossentropy',\n",
    "                     learning_rate=LR, metric=acc)\n",
    "\n",
    "# Wrap the network in a model object\n",
    "model = tflearn.DNN(network,tensorboard_verbose = 3, tensorboard_dir='tmp/tflearn_logs/')\n",
    "\n",
    "###################################\n",
    "# Train model for 10 epochs\n",
    "###################################\n",
    "# model.fit(X, Y, validation_set=(X_test, Y_test), batch_size=500,\n",
    "#       n_epoch=10, run_id=model_name, show_metric=True)\n",
    "\n",
    "# model.save(model_name)\n"
   ]
  },
  {
   "cell_type": "markdown",
   "metadata": {},
   "source": [
    "Model is trained on Floydhub and after the save model is downloaded for prediction"
   ]
  },
  {
   "cell_type": "code",
   "execution_count": 11,
   "metadata": {},
   "outputs": [
    {
     "name": "stdout",
     "output_type": "stream",
     "text": [
      "INFO:tensorflow:Restoring parameters from /home/geekysethi/Desktop/age-and-gender/traffic_signal/code/model/trafficsignal-0.001-2conv_basic.model\n"
     ]
    }
   ],
   "source": [
    "# loading saved model\n",
    "model.load('model/'+str(model_name))"
   ]
  },
  {
   "cell_type": "code",
   "execution_count": 12,
   "metadata": {},
   "outputs": [
    {
     "name": "stdout",
     "output_type": "stream",
     "text": [
      "['/home/geekysethi/Desktop/age-and-gender/traffic_signal/data/test/Final_Test/Images/01829.ppm', '/home/geekysethi/Desktop/age-and-gender/traffic_signal/data/test/Final_Test/Images/05433.ppm', '/home/geekysethi/Desktop/age-and-gender/traffic_signal/data/test/Final_Test/Images/04029.ppm', '/home/geekysethi/Desktop/age-and-gender/traffic_signal/data/test/Final_Test/Images/09561.ppm', '/home/geekysethi/Desktop/age-and-gender/traffic_signal/data/test/Final_Test/Images/04034.ppm', '/home/geekysethi/Desktop/age-and-gender/traffic_signal/data/test/Final_Test/Images/07173.ppm', '/home/geekysethi/Desktop/age-and-gender/traffic_signal/data/test/Final_Test/Images/07661.ppm', '/home/geekysethi/Desktop/age-and-gender/traffic_signal/data/test/Final_Test/Images/03359.ppm', '/home/geekysethi/Desktop/age-and-gender/traffic_signal/data/test/Final_Test/Images/09835.ppm', '/home/geekysethi/Desktop/age-and-gender/traffic_signal/data/test/Final_Test/Images/07077.ppm', '/home/geekysethi/Desktop/age-and-gender/traffic_signal/data/test/Final_Test/Images/06084.ppm', '/home/geekysethi/Desktop/age-and-gender/traffic_signal/data/test/Final_Test/Images/06680.ppm']\n"
     ]
    }
   ],
   "source": [
    "# importing images for testing\n",
    "import glob\n",
    "# test_path=glob.glob('/data/test/Final_Test/Images/*.ppm')\n",
    "test_path=glob.glob('/home/geekysethi/Desktop/age-and-gender/traffic_signal/data/test/Final_Test/Images/*.ppm')\n",
    "\n",
    "\n",
    "print(test_path[:12])"
   ]
  },
  {
   "cell_type": "code",
   "execution_count": 13,
   "metadata": {},
   "outputs": [
    {
     "data": {
      "text/html": [
       "<div>\n",
       "<style>\n",
       "    .dataframe thead tr:only-child th {\n",
       "        text-align: right;\n",
       "    }\n",
       "\n",
       "    .dataframe thead th {\n",
       "        text-align: left;\n",
       "    }\n",
       "\n",
       "    .dataframe tbody tr th {\n",
       "        vertical-align: top;\n",
       "    }\n",
       "</style>\n",
       "<table border=\"1\" class=\"dataframe\">\n",
       "  <thead>\n",
       "    <tr style=\"text-align: right;\">\n",
       "      <th></th>\n",
       "      <th>ClassId</th>\n",
       "      <th>SignName</th>\n",
       "    </tr>\n",
       "  </thead>\n",
       "  <tbody>\n",
       "    <tr>\n",
       "      <th>0</th>\n",
       "      <td>0</td>\n",
       "      <td>Speed limit (20km/h)</td>\n",
       "    </tr>\n",
       "    <tr>\n",
       "      <th>1</th>\n",
       "      <td>1</td>\n",
       "      <td>Speed limit (30km/h)</td>\n",
       "    </tr>\n",
       "    <tr>\n",
       "      <th>2</th>\n",
       "      <td>2</td>\n",
       "      <td>Speed limit (50km/h)</td>\n",
       "    </tr>\n",
       "    <tr>\n",
       "      <th>3</th>\n",
       "      <td>3</td>\n",
       "      <td>Speed limit (60km/h)</td>\n",
       "    </tr>\n",
       "    <tr>\n",
       "      <th>4</th>\n",
       "      <td>4</td>\n",
       "      <td>Speed limit (70km/h)</td>\n",
       "    </tr>\n",
       "  </tbody>\n",
       "</table>\n",
       "</div>"
      ],
      "text/plain": [
       "   ClassId              SignName\n",
       "0        0  Speed limit (20km/h)\n",
       "1        1  Speed limit (30km/h)\n",
       "2        2  Speed limit (50km/h)\n",
       "3        3  Speed limit (60km/h)\n",
       "4        4  Speed limit (70km/h)"
      ]
     },
     "execution_count": 13,
     "metadata": {},
     "output_type": "execute_result"
    }
   ],
   "source": [
    "# signnames csv\n",
    "signnames_df=pd.read_csv('signnames.csv',index_col=None,header=0)\n",
    "signnames_df.head()\n"
   ]
  },
  {
   "cell_type": "code",
   "execution_count": 14,
   "metadata": {},
   "outputs": [
    {
     "name": "stdout",
     "output_type": "stream",
     "text": [
      "Speed limit (60km/h)\n"
     ]
    }
   ],
   "source": [
    "# print(signnames_df.SignName[signnames_df.ClassId==3])\n",
    "\n",
    "print(signnames_df.loc[signnames_df['ClassId']==3,'SignName'].iloc[0])"
   ]
  },
  {
   "cell_type": "code",
   "execution_count": 25,
   "metadata": {},
   "outputs": [],
   "source": [
    "# main prediction \n",
    "# import matplotlib.pyplot as plt\n",
    "# fig=plt.figure()\n",
    "\n",
    "# for num, i in  enumerate(test_path[:12]):\n",
    "    \n",
    "#     y= fig.add_subplot(3,4,num+1)\n",
    "# #     plt.tight_layout(pad=0.4, w_pad=0.5, h_pad=1.0)\n",
    "\n",
    "# #     plt.tight_layout()\n",
    "#     img=cv2.imread(i,1)\n",
    "#     img=cv2.resize(img,(img_size,img_size))\n",
    "#     plt.imshow(cv2.cvtColor(img, cv2.COLOR_BGR2RGB))\n",
    "\n",
    "#     img=img.reshape(1,img_size,img_size,3)\n",
    "#     img=img.astype(float)\n",
    "# # prediction\n",
    "#     model_out=model.predict(img)[0]\n",
    "#     model_out=np.argmax(model_out)\n",
    "#     str_label=signnames_df.loc[signnames_df['ClassId']==model_out,'SignName'].iloc[0]\n",
    "#     plt.title(str_label)\n",
    "# #     print(model_out)\n",
    "#     y.axes.get_xaxis().set_visible(False)\n",
    "#     y.axes.get_yaxis().set_visible(False)\n",
    "# #     print(model_out)\n",
    "    \n",
    "# # plt.show()\n",
    "\n"
   ]
  },
  {
   "cell_type": "code",
   "execution_count": 24,
   "metadata": {},
   "outputs": [
    {
     "ename": "TypeError",
     "evalue": "remove() takes exactly one argument (0 given)",
     "output_type": "error",
     "traceback": [
      "\u001b[0;31m---------------------------------------------------------------------------\u001b[0m",
      "\u001b[0;31mTypeError\u001b[0m                                 Traceback (most recent call last)",
      "\u001b[0;32m<ipython-input-24-97613b780d42>\u001b[0m in \u001b[0;36m<module>\u001b[0;34m()\u001b[0m\n\u001b[1;32m     17\u001b[0m     \u001b[0mstr_label\u001b[0m\u001b[0;34m=\u001b[0m\u001b[0msignnames_df\u001b[0m\u001b[0;34m.\u001b[0m\u001b[0mloc\u001b[0m\u001b[0;34m[\u001b[0m\u001b[0msignnames_df\u001b[0m\u001b[0;34m[\u001b[0m\u001b[0;34m'ClassId'\u001b[0m\u001b[0;34m]\u001b[0m\u001b[0;34m==\u001b[0m\u001b[0mmodel_out\u001b[0m\u001b[0;34m,\u001b[0m\u001b[0;34m'SignName'\u001b[0m\u001b[0;34m]\u001b[0m\u001b[0;34m.\u001b[0m\u001b[0miloc\u001b[0m\u001b[0;34m[\u001b[0m\u001b[0;36m0\u001b[0m\u001b[0;34m]\u001b[0m\u001b[0;34m\u001b[0m\u001b[0m\n\u001b[1;32m     18\u001b[0m     \u001b[0mplt\u001b[0m\u001b[0;34m.\u001b[0m\u001b[0mtitle\u001b[0m\u001b[0;34m(\u001b[0m\u001b[0mstr_label\u001b[0m\u001b[0;34m)\u001b[0m\u001b[0;34m\u001b[0m\u001b[0m\n\u001b[0;32m---> 19\u001b[0;31m     \u001b[0mfig\u001b[0m\u001b[0;34m.\u001b[0m\u001b[0maxes\u001b[0m\u001b[0;34m.\u001b[0m\u001b[0mremove\u001b[0m\u001b[0;34m(\u001b[0m\u001b[0;34m)\u001b[0m\u001b[0;34m\u001b[0m\u001b[0m\n\u001b[0m\u001b[1;32m     20\u001b[0m \u001b[0;31m#     print(model_out)\u001b[0m\u001b[0;34m\u001b[0m\u001b[0;34m\u001b[0m\u001b[0m\n\u001b[1;32m     21\u001b[0m \u001b[0;31m#     fig.axes.get_xaxis().set_visible(False)\u001b[0m\u001b[0;34m\u001b[0m\u001b[0;34m\u001b[0m\u001b[0m\n",
      "\u001b[0;31mTypeError\u001b[0m: remove() takes exactly one argument (0 given)"
     ]
    },
    {
     "data": {
      "image/png": "[encoded data removed]",
      "text/plain": [
       "<matplotlib.figure.Figure at 0x7f93e7c5ccc0>"
      ]
     },
     "metadata": {},
     "output_type": "display_data"
    }
   ],
   "source": [
    "import matplotlib.pyplot as plt\n",
    "\n",
    "\n",
    "for num, i in  enumerate(test_path[:12]):\n",
    "    fig=plt.figure()\n",
    "    \n",
    "    img=cv2.imread(i,1)\n",
    "    plt.imshow(cv2.cvtColor(img, cv2.COLOR_BGR2RGB))\n",
    "    img=cv2.resize(img,(img_size,img_size))\n",
    "    img=img.reshape(1,img_size,img_size,3)\n",
    "    img=img.astype(float)\n",
    "\n",
    "    model_out=model.predict(img)[0]\n",
    "    model_out=np.argmax(model_out)\n",
    "    \n",
    "    str_label=signnames_df.loc[signnames_df['ClassId']==model_out,'SignName'].iloc[0]\n",
    "    plt.title(str_label)\n",
    "    \n",
    "#     fig.axes.remove()\n",
    "#     print(model_out)\n",
    "#     fig.axes.get_xaxis().set_visible(False)\n",
    "#     y.axes.get_yaxis().set_visible(False)\n",
    "    plt.savefig('results/'+str(num)+'.png')\n",
    "#     print(model_out)\n",
    "    \n",
    "# plt.show()\n"
   ]
  },
  {
   "cell_type": "code",
   "execution_count": 32,
   "metadata": {},
   "outputs": [
    {
     "data": {
      "text/plain": [
       "25"
      ]
     },
     "execution_count": 32,
     "metadata": {},
     "output_type": "execute_result"
    }
   ],
   "source": [
    "np.argmax(model_out)"
   ]
  },
  {
   "cell_type": "code",
   "execution_count": null,
   "metadata": {
    "collapsed": true
   },
   "outputs": [],
   "source": []
  }
 ],
 "metadata": {
  "kernelspec": {
   "display_name": "Python 3",
   "language": "python",
   "name": "python3"
  },
  "language_info": {
   "codemirror_mode": {
    "name": "ipython",
    "version": 3
   },
   "file_extension": ".py",
   "mimetype": "text/x-python",
   "name": "python",
   "nbconvert_exporter": "python",
   "pygments_lexer": "ipython3",
   "version": "3.5.2"
  }
 },
 "nbformat": 4,
 "nbformat_minor": 2
}
